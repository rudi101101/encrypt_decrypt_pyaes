{
 "cells": [
  {
   "cell_type": "markdown",
   "id": "b19dd653",
   "metadata": {},
   "source": [
    "# Import Library"
   ]
  },
  {
   "cell_type": "code",
   "execution_count": 21,
   "id": "51c7010d",
   "metadata": {
    "ExecuteTime": {
     "end_time": "2023-06-09T08:19:56.177166Z",
     "start_time": "2023-06-09T08:19:56.171255Z"
    }
   },
   "outputs": [],
   "source": [
    "import os\n",
    "import pandas as pd\n",
    "import time\n",
    "import unicodedata\n",
    "import argparse\n",
    "import openpyxl import load_workbook\n",
    "\n",
    "# Key Generator Library\n",
    "from pbkdf2 import PBKDF2\n",
    "from binascii import hexlify\n",
    "from secrets import token_urlsafe\n",
    "\n",
    "# Encrypt & Decrypt Library\n",
    "from pyaes import AESModeOfOperationCTR\n",
    "from binascii import unhexlify, hexlify"
   ]
  },
  {
   "cell_type": "markdown",
   "id": "537e5e49",
   "metadata": {},
   "source": [
    "# OOP Function"
   ]
  },
  {
   "cell_type": "code",
   "execution_count": 38,
   "id": "cd629a52",
   "metadata": {
    "ExecuteTime": {
     "end_time": "2023-06-09T08:50:38.538849Z",
     "start_time": "2023-06-09T08:50:38.524466Z"
    }
   },
   "outputs": [],
   "source": [
    "class KeyGenerator:\n",
    "    def __init__(self, enc_dec_file, password_stored):\n",
    "        self.enc_dec_file = enc_dec_file\n",
    "        self.password_stored = password_stored\n",
    "        \n",
    "    def key_generator(self):\n",
    "        password = token_urlsafe(32)\n",
    "        key = PBKDF2(password, self.password_stored).read(32)\n",
    "        with open(self.enc_dec_file, 'w') as f:\n",
    "            f.write(hexlify(key).decode('UTF-8'))\n",
    "\n",
    "class EncryptDecrypt:\n",
    "    def __init__(self, enc_dec_file, filename_input, sheet_name, column_name, filename_output):\n",
    "        self.enc_dec_file = enc_dec_file\n",
    "        self.filename_input = filename_input\n",
    "        self.sheet_name = sheet_name\n",
    "        self.column_name = column_name\n",
    "        self.filename_output = filename_output\n",
    "        \n",
    "    def encrypt_text(self, plaintext, enc_dec_file):\n",
    "        key = unhexlify(open(enc_dec_file, 'r').read())\n",
    "        plaintext = unicodedata.normalize('NFKD', plaintext).encode('ascii', 'ignore')\n",
    "        aes = AESModeOfOperationCTR(key)\n",
    "        ciphertext = aes.encrypt(plaintext)\n",
    "        encrypted = hexlify(ciphertext).decode()\n",
    "        return encrypted\n",
    "\n",
    "    def decrypt_text(self, ciphertext, enc_dec_file):\n",
    "        key = unhexlify(open(enc_dec_file, 'r').read())\n",
    "        aes = AESModeOfOperationCTR(key)\n",
    "        decrypted = aes.decrypt(unhexlify(ciphertext)).decode()\n",
    "        return decrypted\n",
    "\n",
    "    def encryption_process(self):\n",
    "        # Read excel file\n",
    "        df = pd.read_excel(self.filename_input, sheet_name=self.sheet_name)\n",
    "        for column in self.column_name:\n",
    "            if column in df.columns:\n",
    "                df[column] = df[column].apply(lambda x: self.encrypt_text(str(x), self.enc_dec_file) if x else None)\n",
    "            else:\n",
    "                print(\"Column '{}' not found in the Excel file.\".format(column))\n",
    "        \n",
    "        # Save encrypted data to the existing Excel file\n",
    "        with pd.ExcelWriter(self.filename_input, engine='openpyxl', mode='a', if_sheet_exists='replace') as writer:\n",
    "            df.to_excel(writer, sheet_name=self.sheet_name, index=False)\n",
    "        print(\"Encryption process completed. Encrypted data saved to\", self.filename_input)\n",
    "\n",
    "    def decryption_process(self):\n",
    "        # Read encrypted Excel file\n",
    "        df = pd.read_excel(self.filename_input, sheet_name=self.sheet_name)\n",
    "        for column in self.column_name:\n",
    "            if column in df.columns:\n",
    "                df[column] = df[column].apply(lambda x: self.decrypt_text(str(x), self.enc_dec_file) if x else None)\n",
    "            else:\n",
    "                print(\"Column '{}' not found in the Excel file.\".format(column))\n",
    "        \n",
    "        # Save decrypted data to the existing sheet\n",
    "        with pd.ExcelWriter(self.filename_input, engine='openpyxl', mode='a', if_sheet_exists='replace') as writer:\n",
    "            df.to_excel(writer, sheet_name=self.sheet_name, index=False)\n",
    "        print(\"Decryption process completed. Decrypted data saved to\", self.filename_input)\n"
   ]
  },
  {
   "cell_type": "markdown",
   "id": "3d5fff6e",
   "metadata": {},
   "source": [
    "# Parameter"
   ]
  },
  {
   "cell_type": "code",
   "execution_count": 39,
   "id": "ee7fcfb3",
   "metadata": {
    "ExecuteTime": {
     "end_time": "2023-06-09T08:50:39.371236Z",
     "start_time": "2023-06-09T08:50:38.972372Z"
    }
   },
   "outputs": [
    {
     "name": "stdout",
     "output_type": "stream",
     "text": [
      "Encryption key generated and saved to key_irisk_sanf.txt\n",
      "Encryption process completed. Encrypted data saved to 00 Dataplex Sample V1 20230428.xlsx\n"
     ]
    }
   ],
   "source": [
    "# Example usage\n",
    "\n",
    "# Generate encryption key file\n",
    "enc_dec_file = 'key_irisk_sanf.txt'\n",
    "password_stored = 'irisksanfganra'\n",
    "\n",
    "# Generate key process\n",
    "key_gen = KeyGenerator(enc_dec_file, password_stored)\n",
    "key_gen.key_generator()\n",
    "print(\"Encryption key generated and saved to\", enc_dec_file)\n",
    "\n",
    "# Specify input and output file paths\n",
    "filename_input = \"00 Dataplex Sample V1 20230428.xlsx\"\n",
    "sheet_name = \"Movic Dashboard\"\n",
    "column_name = ['Business Term']\n",
    "\n",
    "# Encrypt data\n",
    "encryptor = EncryptDecrypt(enc_dec_file, filename_input, sheet_name, column_name)\n",
    "encryptor.encryption_process()\n",
    "\n",
    "# # Decrypt data (Used when you want to decrpyt the column)\n",
    "# decryptor = EncryptDecrypt(enc_dec_file, filename_output_encrypt, sheet_name, column_name)\n",
    "# decryptor.decryption_process()"
   ]
  },
  {
   "cell_type": "code",
   "execution_count": null,
   "id": "9de8900f",
   "metadata": {},
   "outputs": [],
   "source": []
  }
 ],
 "metadata": {
  "kernelspec": {
   "display_name": "Python [conda env:env_dev_2]",
   "language": "python",
   "name": "conda-env-env_dev_2-py"
  },
  "language_info": {
   "codemirror_mode": {
    "name": "ipython",
    "version": 3
   },
   "file_extension": ".py",
   "mimetype": "text/x-python",
   "name": "python",
   "nbconvert_exporter": "python",
   "pygments_lexer": "ipython3",
   "version": "3.8.5"
  },
  "toc": {
   "base_numbering": 1,
   "nav_menu": {},
   "number_sections": true,
   "sideBar": true,
   "skip_h1_title": false,
   "title_cell": "Table of Contents",
   "title_sidebar": "Contents",
   "toc_cell": false,
   "toc_position": {},
   "toc_section_display": true,
   "toc_window_display": true
  },
  "varInspector": {
   "cols": {
    "lenName": 16,
    "lenType": 16,
    "lenVar": 40
   },
   "kernels_config": {
    "python": {
     "delete_cmd_postfix": "",
     "delete_cmd_prefix": "del ",
     "library": "var_list.py",
     "varRefreshCmd": "print(var_dic_list())"
    },
    "r": {
     "delete_cmd_postfix": ") ",
     "delete_cmd_prefix": "rm(",
     "library": "var_list.r",
     "varRefreshCmd": "cat(var_dic_list()) "
    }
   },
   "types_to_exclude": [
    "module",
    "function",
    "builtin_function_or_method",
    "instance",
    "_Feature"
   ],
   "window_display": false
  }
 },
 "nbformat": 4,
 "nbformat_minor": 5
}
